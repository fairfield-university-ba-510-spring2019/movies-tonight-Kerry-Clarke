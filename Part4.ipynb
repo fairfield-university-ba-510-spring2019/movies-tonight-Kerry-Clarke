{
 "cells": [
  {
   "cell_type": "markdown",
   "metadata": {},
   "source": [
    "# Movies Tonight Part 4: A few SELECT queries \n",
    "__Use `%%sql` magic to write the queries listed below.__"
   ]
  },
  {
   "cell_type": "code",
   "execution_count": 11,
   "metadata": {
    "collapsed": true
   },
   "outputs": [
    {
     "name": "stdout",
     "output_type": "stream",
     "text": [
      "The sql extension is already loaded. To reload it, use:\n",
      "  %reload_ext sql\n"
     ]
    },
    {
     "data": {
      "text/plain": [
       "'Connected: @Movies.db'"
      ]
     },
     "execution_count": 11,
     "metadata": {},
     "output_type": "execute_result"
    }
   ],
   "source": [
    "# load %sql magic extension\n",
    "%load_ext sql\n",
    "\n",
    "# initialize a database connection; may have to adjust username and password \n",
    "%sql sqlite:///Movies.db"
   ]
  },
  {
   "cell_type": "markdown",
   "metadata": {},
   "source": [
    "**1. Write a select query that returns the MovieTitle, TheaterName, and Showtime for each movie showing.**  \n",
    "The query should use `JOIN` syntax as described in your textbook. Also, use aliases ( `… AS …` ) to make sure that column names match exactly what is asked for. "
   ]
  },
  {
   "cell_type": "code",
   "execution_count": 16,
   "metadata": {
    "collapsed": true
   },
   "outputs": [
    {
     "name": "stdout",
     "output_type": "stream",
     "text": [
      " * sqlite:///Movies.db\n",
      "Done.\n"
     ]
    },
    {
     "data": {
      "text/html": [
       "<table>\n",
       "    <tr>\n",
       "        <th>MovieTitle</th>\n",
       "        <th>TheaterName</th>\n",
       "        <th>ShowTime</th>\n",
       "    </tr>\n",
       "    <tr>\n",
       "        <td>Associate, The</td>\n",
       "        <td>Akarakian Theatres Moreno 4 Cinemas</td>\n",
       "        <td>4:20 PM</td>\n",
       "    </tr>\n",
       "    <tr>\n",
       "        <td>Associate, The</td>\n",
       "        <td>Akarakian Theatres Moreno 4 Cinemas</td>\n",
       "        <td>7:20 PM</td>\n",
       "    </tr>\n",
       "    <tr>\n",
       "        <td>Associate, The</td>\n",
       "        <td>Akarakian Theatres Moreno 4 Cinemas</td>\n",
       "        <td>9:40 PM</td>\n",
       "    </tr>\n",
       "    <tr>\n",
       "        <td>Associate, The</td>\n",
       "        <td>Cinema Star The Ultraplex 14</td>\n",
       "        <td>4:40 PM</td>\n",
       "    </tr>\n",
       "    <tr>\n",
       "        <td>Associate, The</td>\n",
       "        <td>Cinema Star The Ultraplex 14</td>\n",
       "        <td>7:30 PM</td>\n",
       "    </tr>\n",
       "    <tr>\n",
       "        <td>Associate, The</td>\n",
       "        <td>General Cinema Rancho 6</td>\n",
       "        <td>5:00 PM</td>\n",
       "    </tr>\n",
       "    <tr>\n",
       "        <td>Associate, The</td>\n",
       "        <td>General Cinema Rancho 6</td>\n",
       "        <td>7:30 PM</td>\n",
       "    </tr>\n",
       "    <tr>\n",
       "        <td>Big Night</td>\n",
       "        <td>SOCAL Canyon Crest Cinema</td>\n",
       "        <td>4:40 PM</td>\n",
       "    </tr>\n",
       "    <tr>\n",
       "        <td>Big Night</td>\n",
       "        <td>SOCAL Canyon Crest Cinema</td>\n",
       "        <td>7:10 PM</td>\n",
       "    </tr>\n",
       "    <tr>\n",
       "        <td>Big Night</td>\n",
       "        <td>SOCAL Canyon Crest Cinema</td>\n",
       "        <td>9:40 PM</td>\n",
       "    </tr>\n",
       "    <tr>\n",
       "        <td>D3: The Mighty Ducks</td>\n",
       "        <td>Cinema Star The Ultraplex 14</td>\n",
       "        <td>2:30 PM</td>\n",
       "    </tr>\n",
       "    <tr>\n",
       "        <td>D3: The Mighty Ducks</td>\n",
       "        <td>SOCAL Canyon Springs Cinema</td>\n",
       "        <td>4:15 PM</td>\n",
       "    </tr>\n",
       "    <tr>\n",
       "        <td>Dear God</td>\n",
       "        <td>Cinema Star The Ultraplex 14</td>\n",
       "        <td>5:15 PM</td>\n",
       "    </tr>\n",
       "    <tr>\n",
       "        <td>Dear God</td>\n",
       "        <td>Cinema Star The Ultraplex 14</td>\n",
       "        <td>7:45 PM</td>\n",
       "    </tr>\n",
       "    <tr>\n",
       "        <td>Dear God</td>\n",
       "        <td>General Cinema Rancho 6</td>\n",
       "        <td>4:45 PM</td>\n",
       "    </tr>\n",
       "    <tr>\n",
       "        <td>Dear God</td>\n",
       "        <td>General Cinema Rancho 6</td>\n",
       "        <td>7:15 PM</td>\n",
       "    </tr>\n",
       "    <tr>\n",
       "        <td>Dear God</td>\n",
       "        <td>SOCAL Canyon Springs Cinema</td>\n",
       "        <td>6:40 PM</td>\n",
       "    </tr>\n",
       "    <tr>\n",
       "        <td>Dear God</td>\n",
       "        <td>SOCAL Canyon Springs Cinema</td>\n",
       "        <td>9:00 PM</td>\n",
       "    </tr>\n",
       "    <tr>\n",
       "        <td>Dear God</td>\n",
       "        <td>United Artists Riverside Park Sierra</td>\n",
       "        <td>5:15 PM</td>\n",
       "    </tr>\n",
       "    <tr>\n",
       "        <td>Dear God</td>\n",
       "        <td>United Artists Riverside Park Sierra</td>\n",
       "        <td>9:25 PM</td>\n",
       "    </tr>\n",
       "    <tr>\n",
       "        <td>First Wives Club, The</td>\n",
       "        <td>Cinema Star The Ultraplex 14</td>\n",
       "        <td>5:30 PM</td>\n",
       "    </tr>\n",
       "    <tr>\n",
       "        <td>First Wives Club, The</td>\n",
       "        <td>Cinema Star The Ultraplex 14</td>\n",
       "        <td>8:00 PM</td>\n",
       "    </tr>\n",
       "    <tr>\n",
       "        <td>First Wives Club, The</td>\n",
       "        <td>General Cinema Rancho 6</td>\n",
       "        <td>5:30 PM</td>\n",
       "    </tr>\n",
       "    <tr>\n",
       "        <td>First Wives Club, The</td>\n",
       "        <td>General Cinema Rancho 6</td>\n",
       "        <td>8:00 PM</td>\n",
       "    </tr>\n",
       "    <tr>\n",
       "        <td>First Wives Club, The</td>\n",
       "        <td>SOCAL Canyon Springs Cinema</td>\n",
       "        <td>4:20 PM</td>\n",
       "    </tr>\n",
       "    <tr>\n",
       "        <td>First Wives Club, The</td>\n",
       "        <td>SOCAL Canyon Springs Cinema</td>\n",
       "        <td>6:30 PM</td>\n",
       "    </tr>\n",
       "    <tr>\n",
       "        <td>First Wives Club, The</td>\n",
       "        <td>SOCAL Canyon Springs Cinema</td>\n",
       "        <td>8:40 PM</td>\n",
       "    </tr>\n",
       "    <tr>\n",
       "        <td>First Wives Club, The</td>\n",
       "        <td>United Artists Riverside (Galleria) Tyler Mall</td>\n",
       "        <td>4:20 PM</td>\n",
       "    </tr>\n",
       "    <tr>\n",
       "        <td>First Wives Club, The</td>\n",
       "        <td>United Artists Riverside (Galleria) Tyler Mall</td>\n",
       "        <td>7:10 PM</td>\n",
       "    </tr>\n",
       "    <tr>\n",
       "        <td>First Wives Club, The</td>\n",
       "        <td>United Artists Riverside (Galleria) Tyler Mall</td>\n",
       "        <td>9:30 PM</td>\n",
       "    </tr>\n",
       "</table>"
      ],
      "text/plain": [
       "[('Associate, The', 'Akarakian Theatres Moreno 4 Cinemas', '4:20 PM'),\n",
       " ('Associate, The', 'Akarakian Theatres Moreno 4 Cinemas', '7:20 PM'),\n",
       " ('Associate, The', 'Akarakian Theatres Moreno 4 Cinemas', '9:40 PM'),\n",
       " ('Associate, The', 'Cinema Star The Ultraplex 14', '4:40 PM'),\n",
       " ('Associate, The', 'Cinema Star The Ultraplex 14', '7:30 PM'),\n",
       " ('Associate, The', 'General Cinema Rancho 6', '5:00 PM'),\n",
       " ('Associate, The', 'General Cinema Rancho 6', '7:30 PM'),\n",
       " ('Big Night', 'SOCAL Canyon Crest Cinema', '4:40 PM'),\n",
       " ('Big Night', 'SOCAL Canyon Crest Cinema', '7:10 PM'),\n",
       " ('Big Night', 'SOCAL Canyon Crest Cinema', '9:40 PM'),\n",
       " ('D3: The Mighty Ducks', 'Cinema Star The Ultraplex 14', '2:30 PM'),\n",
       " ('D3: The Mighty Ducks', 'SOCAL Canyon Springs Cinema', '4:15 PM'),\n",
       " ('Dear God', 'Cinema Star The Ultraplex 14', '5:15 PM'),\n",
       " ('Dear God', 'Cinema Star The Ultraplex 14', '7:45 PM'),\n",
       " ('Dear God', 'General Cinema Rancho 6', '4:45 PM'),\n",
       " ('Dear God', 'General Cinema Rancho 6', '7:15 PM'),\n",
       " ('Dear God', 'SOCAL Canyon Springs Cinema', '6:40 PM'),\n",
       " ('Dear God', 'SOCAL Canyon Springs Cinema', '9:00 PM'),\n",
       " ('Dear God', 'United Artists Riverside Park Sierra', '5:15 PM'),\n",
       " ('Dear God', 'United Artists Riverside Park Sierra', '9:25 PM'),\n",
       " ('First Wives Club, The', 'Cinema Star The Ultraplex 14', '5:30 PM'),\n",
       " ('First Wives Club, The', 'Cinema Star The Ultraplex 14', '8:00 PM'),\n",
       " ('First Wives Club, The', 'General Cinema Rancho 6', '5:30 PM'),\n",
       " ('First Wives Club, The', 'General Cinema Rancho 6', '8:00 PM'),\n",
       " ('First Wives Club, The', 'SOCAL Canyon Springs Cinema', '4:20 PM'),\n",
       " ('First Wives Club, The', 'SOCAL Canyon Springs Cinema', '6:30 PM'),\n",
       " ('First Wives Club, The', 'SOCAL Canyon Springs Cinema', '8:40 PM'),\n",
       " ('First Wives Club, The', 'United Artists Riverside (Galleria) Tyler Mall', '4:20 PM'),\n",
       " ('First Wives Club, The', 'United Artists Riverside (Galleria) Tyler Mall', '7:10 PM'),\n",
       " ('First Wives Club, The', 'United Artists Riverside (Galleria) Tyler Mall', '9:30 PM')]"
      ]
     },
     "execution_count": 16,
     "metadata": {},
     "output_type": "execute_result"
    }
   ],
   "source": [
    "%%sql\n",
    "SELECT MovieTitle, TheaterName, Showtime\n",
    "FROM SHOW\n",
    "    JOIN MOVIES USING (MovieID)\n",
    "    JOIN THEATER USING (TheaterID)\n",
    "ORDER BY MovieTitle\n",
    "LIMIT 30;"
   ]
  },
  {
   "cell_type": "markdown",
   "metadata": {},
   "source": [
    "**2. Write a select query to display the MovieTitle, TheaterName, and Showtime for each show after 7pm.** You can start with a copy of the previous query and then add a `WHERE` clause. "
   ]
  },
  {
   "cell_type": "code",
   "execution_count": 19,
   "metadata": {
    "collapsed": true
   },
   "outputs": [
    {
     "name": "stdout",
     "output_type": "stream",
     "text": [
      " * sqlite:///Movies.db\n",
      "Done.\n"
     ]
    },
    {
     "data": {
      "text/html": [
       "<table>\n",
       "    <tr>\n",
       "        <th>MovieTitle</th>\n",
       "        <th>TheaterName</th>\n",
       "        <th>ShowTime</th>\n",
       "    </tr>\n",
       "    <tr>\n",
       "        <td>Ghost &amp; The Darkness, The</td>\n",
       "        <td>Pacific Inland Center</td>\n",
       "        <td>10:05 PM</td>\n",
       "    </tr>\n",
       "    <tr>\n",
       "        <td>Mirror Has Two Faces, The</td>\n",
       "        <td>United Artists Riverside Park Sierra</td>\n",
       "        <td>10:20 PM</td>\n",
       "    </tr>\n",
       "    <tr>\n",
       "        <td>Set It Off</td>\n",
       "        <td>United Artists Riverside Park Sierra</td>\n",
       "        <td>10:05 PM</td>\n",
       "    </tr>\n",
       "</table>"
      ],
      "text/plain": [
       "[('Ghost & The Darkness, The', 'Pacific Inland Center', '10:05 PM'),\n",
       " ('Mirror Has Two Faces, The', 'United Artists Riverside Park Sierra', '10:20 PM'),\n",
       " ('Set It Off', 'United Artists Riverside Park Sierra', '10:05 PM')]"
      ]
     },
     "execution_count": 19,
     "metadata": {},
     "output_type": "execute_result"
    }
   ],
   "source": [
    "%%sql\n",
    "SELECT MovieTitle, TheaterName, Showtime\n",
    "FROM SHOW\n",
    "    JOIN MOVIES USING (MovieID)\n",
    "    JOIN THEATER USING (TheaterID)\n",
    "WHERE ShowTime BETWEEN '07:00:00 PM' AND '11:59:59 PM'\n",
    "ORDER BY MovieTitle\n",
    ";"
   ]
  },
  {
   "cell_type": "markdown",
   "metadata": {},
   "source": [
    "**3. Write a select query to display the cast (actors only) of each movie.** The query should return the Movie Title, Actor Name, MID, and AID. "
   ]
  },
  {
   "cell_type": "code",
   "execution_count": 29,
   "metadata": {
    "collapsed": true
   },
   "outputs": [
    {
     "name": "stdout",
     "output_type": "stream",
     "text": [
      " * sqlite:///Movies.db\n",
      "Done.\n"
     ]
    },
    {
     "data": {
      "text/html": [
       "<table>\n",
       "    <tr>\n",
       "        <th>MovieTitle</th>\n",
       "        <th>ArtistName</th>\n",
       "        <th>MovieID</th>\n",
       "        <th>ArtistID</th>\n",
       "    </tr>\n",
       "</table>"
      ],
      "text/plain": [
       "[]"
      ]
     },
     "execution_count": 29,
     "metadata": {},
     "output_type": "execute_result"
    }
   ],
   "source": [
    "%%sql\n",
    "SELECT DISTINCT MovieTitle, ArtistName, MovieID, ArtistID\n",
    "FROM CREDIT\n",
    "    JOIN MOVIES USING (MovieID)\n",
    "    JOIN ARTIST USING (ArtistID)\n",
    "WHERE CreditCODE='A'\n",
    "ORDER BY MovieTitle\n",
    ";"
   ]
  },
  {
   "cell_type": "markdown",
   "metadata": {},
   "source": [
    "**4. Write a select query to display the number of distinct movies that each actor appears in.** The query should return the ActorName, MovieCount, and AID. You will need to use use a GROUP BY clause and the COUNT() function. "
   ]
  },
  {
   "cell_type": "code",
   "execution_count": 26,
   "metadata": {
    "collapsed": true
   },
   "outputs": [
    {
     "name": "stdout",
     "output_type": "stream",
     "text": [
      " * sqlite:///Movies.db\n",
      "Done.\n"
     ]
    },
    {
     "data": {
      "text/html": [
       "<table>\n",
       "    <tr>\n",
       "        <th>ArtistName</th>\n",
       "        <th>MovieCount</th>\n",
       "        <th>ArtistID</th>\n",
       "    </tr>\n",
       "</table>"
      ],
      "text/plain": [
       "[]"
      ]
     },
     "execution_count": 26,
     "metadata": {},
     "output_type": "execute_result"
    }
   ],
   "source": [
    "%%sql\n",
    "SELECT ArtistName, COUNT(DISTINCT(MovieID)) AS MovieCount, ArtistID\n",
    "FROM CREDIT\n",
    "    JOIN ARTIST USING (ArtistID)\n",
    "WHERE CreditCode='A'\n",
    "GROUP BY ArtistName\n",
    ";"
   ]
  },
  {
   "cell_type": "markdown",
   "metadata": {},
   "source": [
    "**5. Write a select query to display only the actors that appear in multiple movies.** The query should return the Actor Name, Movie Count, and AID. You can use the previous select query as a starting point. You will need to add a HAVING clause to do the restriction. "
   ]
  },
  {
   "cell_type": "code",
   "execution_count": 27,
   "metadata": {
    "collapsed": true
   },
   "outputs": [
    {
     "name": "stdout",
     "output_type": "stream",
     "text": [
      " * sqlite:///Movies.db\n",
      "Done.\n"
     ]
    },
    {
     "data": {
      "text/html": [
       "<table>\n",
       "    <tr>\n",
       "        <th>ArtistName</th>\n",
       "        <th>MovieCount</th>\n",
       "        <th>ArtistID</th>\n",
       "    </tr>\n",
       "</table>"
      ],
      "text/plain": [
       "[]"
      ]
     },
     "execution_count": 27,
     "metadata": {},
     "output_type": "execute_result"
    }
   ],
   "source": [
    "%%sql\n",
    "SELECT ArtistName, COUNT(DISTINCT(MovieID)) AS MovieCount, ArtistID\n",
    "FROM CREDIT\n",
    "    JOIN ARTIST USING (ArtistID)\n",
    "WHERE CreditCode='A'\n",
    "GROUP BY ArtistName\n",
    "HAVING MovieCount>1\n",
    ";"
   ]
  },
  {
   "cell_type": "markdown",
   "metadata": {},
   "source": [
    "**6. Write a select query to display directors that also act in their movies.** The query should return the ArtistName, NumDirectorCredits, NumActorCredits, NumDirectorActorCredits. Each count should be calculated separately using a subquery. Note: NumDirectorActorCredits should be greater than 0."
   ]
  },
  {
   "cell_type": "markdown",
   "metadata": {},
   "source": [
    "**?**"
   ]
  },
  {
   "cell_type": "code",
   "execution_count": null,
   "metadata": {},
   "outputs": [],
   "source": []
  }
 ],
 "metadata": {
  "kernelspec": {
   "display_name": "Python 3",
   "language": "python",
   "name": "python3"
  },
  "language_info": {
   "codemirror_mode": {
    "name": "ipython",
    "version": 3
   },
   "file_extension": ".py",
   "mimetype": "text/x-python",
   "name": "python",
   "nbconvert_exporter": "python",
   "pygments_lexer": "ipython3",
   "version": "3.6.5"
  }
 },
 "nbformat": 4,
 "nbformat_minor": 2
}
